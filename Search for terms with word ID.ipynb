{
 "cells": [
  {
   "cell_type": "code",
   "execution_count": 14,
   "metadata": {},
   "outputs": [
    {
     "ename": "KeyError",
     "evalue": "'hello'",
     "output_type": "error",
     "traceback": [
      "\u001b[0;31m---------------------------------------------------------------------------\u001b[0m",
      "\u001b[0;31mKeyError\u001b[0m                                  Traceback (most recent call last)",
      "\u001b[0;32m<ipython-input-14-79d89e015497>\u001b[0m in \u001b[0;36m<module>\u001b[0;34m\u001b[0m\n\u001b[1;32m     13\u001b[0m \u001b[0;31m#為了設定字典的長度，當作新的字詞 ID，字詞 ID 是以 0、1、2....漸增。\u001b[0m\u001b[0;34m\u001b[0m\u001b[0;34m\u001b[0m\u001b[0;34m\u001b[0m\u001b[0m\n\u001b[1;32m     14\u001b[0m \u001b[0mid_to_word\u001b[0m\u001b[0;34m[\u001b[0m\u001b[0;36m1\u001b[0m\u001b[0;34m]\u001b[0m\u001b[0;34m\u001b[0m\u001b[0;34m\u001b[0m\u001b[0m\n\u001b[0;32m---> 15\u001b[0;31m \u001b[0mword_to_id\u001b[0m\u001b[0;34m[\u001b[0m\u001b[0;34m'hello'\u001b[0m\u001b[0;34m]\u001b[0m\u001b[0;34m\u001b[0m\u001b[0;34m\u001b[0m\u001b[0m\n\u001b[0m",
      "\u001b[0;31mKeyError\u001b[0m: 'hello'"
     ]
    }
   ],
   "source": [
    "text='You say goodbye and I say hello.'\n",
    "word_to_id={}\n",
    "#變數 word_to_id 負責把字詞轉換成字詞 ID。 \n",
    "id_to_word={}\n",
    "#變數 id_to_word 負責將字詞 ID 轉換成字詞 (Key 是字詞 ID，值是字詞)\n",
    "for word in words:\n",
    "    if word not in word_to_id:\n",
    "        new_id=len(word_to_id)\n",
    "        word_to_id[word]=new_id\n",
    "        id_to_word[new_id]=word\n",
    "#這裡要從頭開始，逐一檢視以字詞為單位，分割後的 words 各個元素。 \n",
    "#假如字詞不存在於 word_to_id 時，分別在 word_to_id 與 id_to_word，加入新的 ID 與字詞。\n",
    "#為了設定字典的長度，當作新的字詞 ID，字詞 ID 是以 0、1、2....漸增。 \n",
    "id_to_word[1]\n",
    "word_to_id['hello']"
   ]
  },
  {
   "cell_type": "code",
   "execution_count": null,
   "metadata": {},
   "outputs": [],
   "source": []
  },
  {
   "cell_type": "code",
   "execution_count": null,
   "metadata": {},
   "outputs": [],
   "source": []
  }
 ],
 "metadata": {
  "kernelspec": {
   "display_name": "Python 3",
   "language": "python",
   "name": "python3"
  },
  "language_info": {
   "codemirror_mode": {
    "name": "ipython",
    "version": 3
   },
   "file_extension": ".py",
   "mimetype": "text/x-python",
   "name": "python",
   "nbconvert_exporter": "python",
   "pygments_lexer": "ipython3",
   "version": "3.7.3"
  }
 },
 "nbformat": 4,
 "nbformat_minor": 2
}
